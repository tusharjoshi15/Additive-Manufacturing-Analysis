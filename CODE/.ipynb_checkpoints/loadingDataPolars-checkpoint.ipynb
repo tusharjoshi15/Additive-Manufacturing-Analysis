{
 "cells": [
  {
   "cell_type": "markdown",
   "id": "caafa375",
   "metadata": {},
   "source": [
    "<h3>Finding files</h3>"
   ]
  },
  {
   "cell_type": "code",
   "execution_count": 1,
   "id": "937a63e3",
   "metadata": {},
   "outputs": [
    {
     "name": "stdout",
     "output_type": "stream",
     "text": [
      "Total files found: 331\n",
      "\n",
      "5 smallest files:\n",
      "1. 2024-08-04-prusa.gz - 0.0 MB\n",
      "2. 2024-08-02-prusa.gz - 0.0 MB\n",
      "3. 2024-08-03-prusa.gz - 0.0 MB\n",
      "4. 2024-06-02-prusa.gz - 0.0 MB\n",
      "5. 2024-06-03-prusa.gz - 0.0 MB\n",
      "\n",
      "5 largest files:\n",
      "1. 2025-03-06-prusa.gz - 2.67 MB\n",
      "2. 2024-09-26-prusa.gz - 2.74 MB\n",
      "3. 2024-09-25-prusa.gz - 2.78 MB\n",
      "4. 2024-04-05-prusa.gz - 2.88 MB\n",
      "5. 2024-04-04-prusa.gz - 3.0 MB\n"
     ]
    }
   ],
   "source": [
    "from pathlib import Path\n",
    "\n",
    "# Your data directories\n",
    "data_dirs = [\n",
    "    \"/Users/tusharjoshi/Desktop/ProjectWorkAll/Dissertation /DATA/2024\",\n",
    "    \"/Users/tusharjoshi/Desktop/ProjectWorkAll/Dissertation /DATA/2025\"\n",
    "]\n",
    "\n",
    "# Find all .gz files and get their sizes\n",
    "files_info = []\n",
    "\n",
    "for directory in data_dirs:\n",
    "    for file_path in Path(directory).glob(\"*.gz\"):\n",
    "        size_mb = file_path.stat().st_size / (1024 * 1024)\n",
    "        files_info.append({\n",
    "            \"file_name\": file_path.name,\n",
    "            \"full_path\": str(file_path),\n",
    "            \"size_mb\": round(size_mb, 2)\n",
    "        })\n",
    "\n",
    "# Sort by size (smallest first)\n",
    "files_info.sort(key=lambda x: x[\"size_mb\"])\n",
    "\n",
    "# Show results\n",
    "print(f\"Total files found: {len(files_info)}\")\n",
    "print(\"\\n5 smallest files:\")\n",
    "for i, file_info in enumerate(files_info[:5]):\n",
    "    print(f\"{i+1}. {file_info['file_name']} - {file_info['size_mb']} MB\")\n",
    "\n",
    "print(\"\\n5 largest files:\")\n",
    "for i, file_info in enumerate(files_info[-5:]):\n",
    "    print(f\"{i+1}. {file_info['file_name']} - {file_info['size_mb']} MB\")"
   ]
  },
  {
   "cell_type": "markdown",
   "id": "7406ef18",
   "metadata": {},
   "source": [
    "<h3>Processing one test file</h3>"
   ]
  },
  {
   "cell_type": "code",
   "execution_count": 5,
   "id": "ab55625c",
   "metadata": {},
   "outputs": [
    {
     "name": "stdout",
     "output_type": "stream",
     "text": [
      "Collecting polars\n",
      "  Using cached polars-1.31.0-cp39-abi3-macosx_10_12_x86_64.whl.metadata (14 kB)\n",
      "Using cached polars-1.31.0-cp39-abi3-macosx_10_12_x86_64.whl (34.5 MB)\n",
      "Installing collected packages: polars\n",
      "Successfully installed polars-1.31.0\n",
      "Note: you may need to restart the kernel to use updated packages.\n"
     ]
    },
    {
     "name": "stderr",
     "output_type": "stream",
     "text": [
      "/usr/local/lib/python3.11/site-packages/polars/_cpu_check.py:258: RuntimeWarning: Missing required CPU features.\n",
      "\n",
      "The following required CPU features were not detected:\n",
      "    avx, avx2, fma, bmi1, bmi2, lzcnt, movbe\n",
      "Continuing to use this version of Polars on this processor will likely result in a crash.\n",
      "Install the `polars-lts-cpu` package instead of `polars` to run Polars with better compatibility.\n",
      "\n",
      "Hint: If you are on an Apple ARM machine (e.g. M1) this is likely due to running Python under Rosetta.\n",
      "It is recommended to install a native version of Python that does not run under Rosetta x86-64 emulation.\n",
      "\n",
      "If you believe this warning to be a false positive, you can set the `POLARS_SKIP_CPU_CHECK` environment variable to bypass this check.\n",
      "\n",
      "  warnings.warn(\n"
     ]
    },
    {
     "name": "stdout",
     "output_type": "stream",
     "text": [
      "Testing file: 2025-03-06-prusa.gz (2.67 MB)\n",
      "\n",
      "First 3 lines of the file:\n",
      "Line 1: {'date': '2025-03-06T00:00:00.769Z', 'id': 'CZPX1522X017XC78087', 'check': 'success', 'data': {'state': 'IDLE', 'tempBed': 25.4, 'targetBed': 0, 'tempNozzle': 25.1, 'targetNozzle': 0, 'axisZ': 20.2, 'axisX': 170, 'axisY': 170, 'flow': 95, 'speed': 100, 'fanHotend': 0, 'fanPrint': 0}}\n",
      "Line 2: {'date': '2025-03-06T00:00:00.771Z', 'id': 'CZPX1622X017XC78491', 'check': 'success', 'data': {'state': 'IDLE', 'tempBed': 24, 'targetBed': 0, 'tempNozzle': 23.5, 'targetNozzle': 0, 'axisZ': 20.4, 'axisX': 170, 'axisY': 170, 'flow': 95, 'speed': 100, 'fanHotend': 0, 'fanPrint': 0}}\n",
      "Line 3: {'date': '2025-03-06T00:00:00.772Z', 'id': 'CZPX1622X017XC78384', 'check': 'success', 'data': {'state': 'PRINTING', 'tempBed': 27.2, 'targetBed': 0, 'tempNozzle': 214.7, 'targetNozzle': 215, 'axisZ': 39.5, 'flow': 100, 'speed': 100, 'fanHotend': 4811, 'fanPrint': 0}}\n"
     ]
    }
   ],
   "source": [
    "%pip install polars\n",
    "\n",
    "import polars as pl\n",
    "import gzip\n",
    "import json\n",
    "\n",
    "# Let's use a medium-sized file for testing\n",
    "test_file = \"/Users/tusharjoshi/Desktop/ProjectWorkAll/Dissertation /DATA/2025/2025-03-06-prusa.gz\"\n",
    "\n",
    "print(f\"Testing file: 2025-03-06-prusa.gz (2.67 MB)\")\n",
    "\n",
    "# Simple approach: read a few lines first to see structure\n",
    "print(\"\\nFirst 3 lines of the file:\")\n",
    "with gzip.open(test_file, 'rt', encoding='utf-8') as f:\n",
    "    for i, line in enumerate(f):\n",
    "        if i >= 3:  # Only show first 3 lines\n",
    "            break\n",
    "        if line.strip():\n",
    "            try:\n",
    "                parsed = json.loads(line.strip())\n",
    "                print(f\"Line {i+1}: {parsed}\")\n",
    "            except:\n",
    "                print(f\"Line {i+1}: Error parsing JSON\")"
   ]
  }
 ],
 "metadata": {
  "kernelspec": {
   "display_name": "Python 3",
   "language": "python",
   "name": "python3"
  },
  "language_info": {
   "codemirror_mode": {
    "name": "ipython",
    "version": 3
   },
   "file_extension": ".py",
   "mimetype": "text/x-python",
   "name": "python",
   "nbconvert_exporter": "python",
   "pygments_lexer": "ipython3",
   "version": "3.11.13"
  }
 },
 "nbformat": 4,
 "nbformat_minor": 5
}
