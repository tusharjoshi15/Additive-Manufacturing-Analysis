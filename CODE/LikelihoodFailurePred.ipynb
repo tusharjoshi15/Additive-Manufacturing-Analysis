{
 "cells": [
  {
   "cell_type": "markdown",
   "id": "6cdf2be6",
   "metadata": {},
   "source": [
    "Load and Prepare JobList\n"
   ]
  },
  {
   "cell_type": "code",
   "execution_count": 1,
   "id": "4fe34fce",
   "metadata": {},
   "outputs": [
    {
     "name": "stdout",
     "output_type": "stream",
     "text": [
      "Loaded 1408 jobs\n",
      "                         date                   id  \\\n",
      "0  2024-04-09 15:56:58.697000  CZPX1622X017XC78456   \n",
      "1  2024-04-11 09:41:14.293000  CZPX1522X017XC78087   \n",
      "2  2024-04-11 09:43:09.177000  CZPX4921X017XC67390   \n",
      "3  2024-04-11 10:04:51.453000  CZPX1522X017XC78087   \n",
      "4  2024-04-11 10:05:03.598000  CZPX1522X017XC78307   \n",
      "\n",
      "                                              name     size  mTimestamp  \n",
      "0  controller holder v1_0.25mm_PLA_MINI_3h0m.gcode  3515583  1712671042  \n",
      "1                           sample-test-37-5.gcode    32672  1711372336  \n",
      "2                           sample-test-37-6.gcode    32672  1711372347  \n",
      "3                           sample-test-37-6.gcode    32672  1711372336  \n",
      "4                           sample-test-37-6.gcode    32672  1711372383  \n"
     ]
    },
    {
     "name": "stderr",
     "output_type": "stream",
     "text": [
      "/var/folders/n3/lvjf2dhd2xbczw56rt1rzqx80000gn/T/ipykernel_22282/3870653998.py:13: UserWarning: pandas only supports SQLAlchemy connectable (engine/connection) or database string URI or sqlite3 DBAPI2 connection. Other DBAPI2 objects are not tested. Please consider using SQLAlchemy.\n",
      "  jobs_df = pd.read_sql(\"SELECT * FROM JobList\", connection)\n"
     ]
    }
   ],
   "source": [
    "import pandas as pd\n",
    "import pymysql\n",
    "\n",
    "# Connect to database\n",
    "connection = pymysql.connect(\n",
    "    host='localhost',\n",
    "    user='root',\n",
    "    password='admintushar15',\n",
    "    database='printer_data_db'\n",
    ")\n",
    "\n",
    "# Load JobList - this is tiny, only 1,408 rows!\n",
    "jobs_df = pd.read_sql(\"SELECT * FROM JobList\", connection)\n",
    "print(f\"Loaded {len(jobs_df)} jobs\")\n",
    "\n",
    "# Look at what we have\n",
    "print(jobs_df.head())"
   ]
  },
  {
   "cell_type": "markdown",
   "id": "3282a34e",
   "metadata": {},
   "source": [
    "Create Job Windows\n"
   ]
  },
  {
   "cell_type": "code",
   "execution_count": 2,
   "id": "958b39b8",
   "metadata": {},
   "outputs": [
    {
     "name": "stdout",
     "output_type": "stream",
     "text": [
      "Job windows created:\n",
      "                     id                        date  \\\n",
      "1   CZPX1522X017XC78087  2024-04-11 09:41:14.293000   \n",
      "3   CZPX1522X017XC78087  2024-04-11 10:04:51.453000   \n",
      "6   CZPX1522X017XC78087  2024-04-11 10:37:05.060000   \n",
      "7   CZPX1522X017XC78087  2024-04-11 10:39:45.890000   \n",
      "15  CZPX1522X017XC78087  2024-04-11 11:01:01.684000   \n",
      "22  CZPX1522X017XC78087  2024-04-11 13:57:22.413000   \n",
      "25  CZPX1522X017XC78087  2024-04-16 11:06:00.496000   \n",
      "30  CZPX1522X017XC78087  2024-04-16 12:14:54.157000   \n",
      "36  CZPX1522X017XC78087  2024-04-16 13:19:32.015000   \n",
      "39  CZPX1522X017XC78087  2024-04-16 13:34:59.909000   \n",
      "\n",
      "                next_job_start  \n",
      "1   2024-04-11 10:04:51.453000  \n",
      "3   2024-04-11 10:37:05.060000  \n",
      "6   2024-04-11 10:39:45.890000  \n",
      "7   2024-04-11 11:01:01.684000  \n",
      "15  2024-04-11 13:57:22.413000  \n",
      "22  2024-04-16 11:06:00.496000  \n",
      "25  2024-04-16 12:14:54.157000  \n",
      "30  2024-04-16 13:19:32.015000  \n",
      "36  2024-04-16 13:34:59.909000  \n",
      "39  2024-04-16 23:22:13.683000  \n"
     ]
    }
   ],
   "source": [
    "# Sort jobs by printer and time\n",
    "jobs_df = jobs_df.sort_values(['id', 'date'])\n",
    "\n",
    "# For each job, find when the NEXT job starts\n",
    "# This tells us when current job ends\n",
    "jobs_df['next_job_start'] = jobs_df.groupby('id')['date'].shift(-1)\n",
    "\n",
    "# The last job for each printer goes until \"now\"\n",
    "jobs_df['next_job_start'] = jobs_df['next_job_start'].fillna('2025-12-31')\n",
    "\n",
    "print(\"Job windows created:\")\n",
    "print(jobs_df[['id', 'date', 'next_job_start']].head(10))"
   ]
  }
 ],
 "metadata": {
  "kernelspec": {
   "display_name": "Python (Printer Env)",
   "language": "python",
   "name": "printer-env"
  },
  "language_info": {
   "codemirror_mode": {
    "name": "ipython",
    "version": 3
   },
   "file_extension": ".py",
   "mimetype": "text/x-python",
   "name": "python",
   "nbconvert_exporter": "python",
   "pygments_lexer": "ipython3",
   "version": "3.11.13"
  }
 },
 "nbformat": 4,
 "nbformat_minor": 5
}
