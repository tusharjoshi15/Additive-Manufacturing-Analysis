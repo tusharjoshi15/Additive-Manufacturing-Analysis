{
 "cells": [
  {
   "cell_type": "code",
   "execution_count": 1,
   "id": "c137314c",
   "metadata": {},
   "outputs": [
    {
     "name": "stdout",
     "output_type": "stream",
     "text": [
      "Total files found: 331\n",
      "Date range: 2024-04-03 to 2025-04-29\n",
      "              filename                                               path  \\\n",
      "0  2024-11-18-prusa.gz  /Users/tusharjoshi/Desktop/ProjectWorkAll/Diss...   \n",
      "1  2024-11-19-prusa.gz  /Users/tusharjoshi/Desktop/ProjectWorkAll/Diss...   \n",
      "2  2024-06-22-prusa.gz  /Users/tusharjoshi/Desktop/ProjectWorkAll/Diss...   \n",
      "3  2024-06-23-prusa.gz  /Users/tusharjoshi/Desktop/ProjectWorkAll/Diss...   \n",
      "4  2024-05-11-prusa.gz  /Users/tusharjoshi/Desktop/ProjectWorkAll/Diss...   \n",
      "\n",
      "   size_mb        date  \n",
      "0     2.08  2024-11-18  \n",
      "1     2.21  2024-11-19  \n",
      "2     1.69  2024-06-22  \n",
      "3     1.68  2024-06-23  \n",
      "4     1.71  2024-05-11  \n"
     ]
    }
   ],
   "source": [
    "# List all .gz files in 2024 and 2025 directories and collect metadata\n",
    "\n",
    "import os\n",
    "from pathlib import Path\n",
    "import pandas as pd\n",
    "\n",
    "dirs = [\n",
    "    \"/Users/tusharjoshi/Desktop/ProjectWorkAll/Dissertation /DATA/2024\",\n",
    "    \"/Users/tusharjoshi/Desktop/ProjectWorkAll/Dissertation /DATA/2025\"\n",
    "]\n",
    "\n",
    "files = []\n",
    "for d in dirs:\n",
    "    for f in Path(d).glob(\"*.gz\"):\n",
    "        files.append({\n",
    "            \"filename\": f.name,\n",
    "            \"path\": str(f),\n",
    "            \"size_mb\": round(f.stat().st_size / (1024**2), 2),\n",
    "            \"date\": f.name.split('-prusa.gz')[0]  # Assumes filename format YYYY-MM-DD-prusa.gz\n",
    "        })\n",
    "\n",
    "df_files = pd.DataFrame(files)\n",
    "print(f\"Total files found: {len(df_files)}\")\n",
    "print(f\"Date range: {df_files['date'].min()} to {df_files['date'].max()}\")\n",
    "print(df_files.head())"
   ]
  },
  {
   "cell_type": "markdown",
   "id": "8e835db6",
   "metadata": {},
   "source": [
    "<h3>Batch processing and sampling</h3>"
   ]
  },
  {
   "cell_type": "code",
   "execution_count": null,
   "id": "8e133ea3",
   "metadata": {},
   "outputs": [
    {
     "name": "stdout",
     "output_type": "stream",
     "text": [
      "Processed batch 1\n",
      "Processed batch 2\n",
      "Processed batch 3\n",
      "Processed batch 4\n",
      "Processed batch 5\n",
      "Processed batch 6\n",
      "Processed batch 7\n",
      "Processed batch 8\n",
      "Processed batch 9\n",
      "Processed batch 10\n",
      "Processed batch 11\n",
      "Processed batch 12\n",
      "Processed batch 13\n",
      "Processed batch 14\n",
      "Processed batch 15\n",
      "Processed batch 16\n",
      "Processed batch 17\n",
      "Processed batch 18\n",
      "Processed batch 19\n",
      "Processed batch 20\n",
      "Processed batch 21\n",
      "Processed batch 22\n",
      "Processed batch 23\n",
      "Processed batch 24\n",
      "Processed batch 25\n",
      "Processed batch 26\n",
      "Processed batch 27\n",
      "Processed batch 28\n",
      "Processed batch 29\n",
      "Processed batch 30\n",
      "Processed batch 31\n",
      "Processed batch 32\n",
      "Processed batch 33\n",
      "Processed batch 34\n",
      "(94869699, 16)\n",
      "                  timestamp           printer_id   status data     state  \\\n",
      "0  2024-11-18T00:00:00.590Z  CZPX1522X017XC78087  success   {}  FINISHED   \n",
      "1  2024-11-18T00:00:00.594Z  CZPX4521X017XC64043  success   {}      IDLE   \n",
      "2  2024-11-18T00:00:00.597Z  CZPX1622X017XC78384  success   {}      IDLE   \n",
      "3  2024-11-18T00:00:00.600Z  CZPX1522X017XC78307  success   {}  FINISHED   \n",
      "4  2024-11-18T00:00:00.603Z  CZPX1622X017XC78491  success   {}  FINISHED   \n",
      "\n",
      "   tempBed  targetBed  tempNozzle  targetNozzle  axisZ  axisX  axisY   flow  \\\n",
      "0     21.3        0.0        21.5           0.0  118.1  170.0  170.0  100.0   \n",
      "1     21.6        0.0        21.8           0.0    0.0  180.4   -3.0  100.0   \n",
      "2     21.4        0.0        21.4           0.0    0.0  180.4   -3.0  100.0   \n",
      "3     21.2        0.0        21.0           0.0   22.0  170.0  170.0   13.0   \n",
      "4     21.2        0.0        21.0           0.0   22.0  170.0  170.0   12.0   \n",
      "\n",
      "   speed  fanHotend  fanPrint  \n",
      "0  100.0        0.0       0.0  \n",
      "1  100.0        0.0       0.0  \n",
      "2  100.0        0.0       0.0  \n",
      "3  100.0        0.0    1109.0  \n",
      "4  100.0        0.0       0.0  \n",
      "                         timestamp           printer_id   status data state  \\\n",
      "94869694  2025-04-22T22:59:59.646Z  CZPX4521X017XC64043  success  NaN   NaN   \n",
      "94869695  2025-04-22T22:59:59.646Z  CZPX4921X017XC67390  success  NaN   NaN   \n",
      "94869696  2025-04-22T23:00:00.788Z  CZPX1622X017XC78491   failed  NaN   NaN   \n",
      "94869697  2025-04-22T23:00:01.673Z  CZPX1622X017XC78456   failed  NaN   NaN   \n",
      "94869698  2025-04-22T23:00:01.703Z  CZPX1522X017XC78087  success  NaN   NaN   \n",
      "\n",
      "          tempBed  targetBed  tempNozzle  targetNozzle  axisZ  axisX  axisY  \\\n",
      "94869694     17.5        NaN         NaN           NaN    NaN    NaN    NaN   \n",
      "94869695     16.9        NaN        16.3           NaN    NaN    NaN    NaN   \n",
      "94869696      NaN        NaN         NaN           NaN    NaN    NaN    NaN   \n",
      "94869697      NaN        NaN         NaN           NaN    NaN    NaN    NaN   \n",
      "94869698     17.1        NaN        17.0           NaN    NaN    NaN    NaN   \n",
      "\n",
      "          flow  speed  fanHotend  fanPrint  \n",
      "94869694   NaN    NaN        NaN       NaN  \n",
      "94869695   NaN    NaN        NaN       NaN  \n",
      "94869696   NaN    NaN        NaN       NaN  \n",
      "94869697   NaN    NaN        NaN       NaN  \n",
      "94869698   NaN    NaN        NaN       NaN  \n"
     ]
    },
    {
     "ename": "",
     "evalue": "",
     "output_type": "error",
     "traceback": [
      "\u001b[1;31mThe Kernel crashed while executing code in the current cell or a previous cell. \n",
      "\u001b[1;31mPlease review the code in the cell(s) to identify a possible cause of the failure. \n",
      "\u001b[1;31mClick <a href='https://aka.ms/vscodeJupyterKernelCrash'>here</a> for more info. \n",
      "\u001b[1;31mView Jupyter <a href='command:jupyter.viewOutput'>log</a> for further details."
     ]
    }
   ],
   "source": [
    "import pandas as pd\n",
    "import gzip\n",
    "import json\n",
    "\n",
    "def process_file(filepath):\n",
    "    records = []\n",
    "    with gzip.open(filepath, 'rt', encoding='utf-8') as f:\n",
    "        for line in f:\n",
    "            if line.strip():\n",
    "                try:\n",
    "                    record = json.loads(line.strip())\n",
    "                    flat = {\n",
    "                        'timestamp': record.get('date'),\n",
    "                        'printer_id': record.get('id'),\n",
    "                        'status': record.get('check')\n",
    "                    }\n",
    "                    if 'data' in record and isinstance(record['data'], dict):\n",
    "                        flat.update(record['data'])\n",
    "                    records.append(flat)\n",
    "                except:\n",
    "                    continue\n",
    "    return pd.DataFrame(records)\n",
    "\n",
    "# Get file paths from your file listing DataFrame\n",
    "file_paths = df_files['path'].tolist()\n",
    "\n",
    "batch_size = 10\n",
    "dfs = []\n",
    "for i in range(0, len(file_paths), batch_size):\n",
    "    batch_files = file_paths[i:i+batch_size]\n",
    "    for f in batch_files:\n",
    "        dfs.append(process_file(f))\n",
    "    print(f\"Processed batch {i//batch_size + 1}\")\n",
    "\n",
    "# Concatenate all batches\n",
    "df_all = pd.concat(dfs, ignore_index=True)\n",
    "print(df_all.shape)\n",
    "print(df_all.head())\n",
    "print(df_all.tail())"
   ]
  },
  {
   "cell_type": "code",
   "execution_count": null,
   "id": "954b459b",
   "metadata": {},
   "outputs": [],
   "source": [
    "# df_all.to_csv(\"all_prusa_data.csv\", index=False)"
   ]
  },
  {
   "cell_type": "code",
   "execution_count": null,
   "id": "814975b2",
   "metadata": {},
   "outputs": [],
   "source": [
    "print(\"Unique dates in files:\", sorted(df_files['date'].unique()))"
   ]
  },
  {
   "cell_type": "code",
   "execution_count": null,
   "id": "47003219",
   "metadata": {},
   "outputs": [],
   "source": [
    "print(\"Date range in extracted data:\", df_all['timestamp'].min(), \"to\", df_all['timestamp'].max())\n",
    "df_all['date_only'] = pd.to_datetime(df_all['timestamp']).dt.date\n",
    "print(\"Unique dates in extracted data:\", sorted(df_all['date_only'].dropna().unique()))"
   ]
  },
  {
   "cell_type": "code",
   "execution_count": null,
   "id": "aa1be7d9",
   "metadata": {},
   "outputs": [],
   "source": []
  },
  {
   "cell_type": "markdown",
   "id": "6f46fc05",
   "metadata": {},
   "source": [
    "<h3>Data Cleaning and validation </h3>"
   ]
  },
  {
   "cell_type": "code",
   "execution_count": null,
   "id": "6ce5b041",
   "metadata": {},
   "outputs": [],
   "source": [
    "# Check for missing values\n",
    "print(df_all.isnull().sum())\n",
    "\n",
    "# Check data types\n",
    "print(df_all.dtypes)\n",
    "\n",
    "# Check for duplicate rows\n",
    "print(\"Duplicate rows:\", df_all.duplicated().sum())\n",
    "\n",
    "# Show a sample of rows with missing values\n",
    "print(df_all[df_all.isnull().any(axis=1)].head())"
   ]
  }
 ],
 "metadata": {
  "kernelspec": {
   "display_name": "base",
   "language": "python",
   "name": "python3"
  },
  "language_info": {
   "codemirror_mode": {
    "name": "ipython",
    "version": 3
   },
   "file_extension": ".py",
   "mimetype": "text/x-python",
   "name": "python",
   "nbconvert_exporter": "python",
   "pygments_lexer": "ipython3",
   "version": "3.11.7"
  }
 },
 "nbformat": 4,
 "nbformat_minor": 5
}
